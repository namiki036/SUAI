{
 "cells": [
  {
   "cell_type": "code",
   "execution_count": 12,
   "metadata": {},
   "outputs": [],
   "source": [
    "import numpy as np\n",
    "import pandas as pd\n",
    "import seaborn as sns\n",
    "\n",
    "import matplotlib as mpl\n",
    "import matplotlib.pyplot as plt\n",
    "from mpl_toolkits.mplot3d import Axes3D\n",
    "\n",
    "import sklearn as sk\n",
    "from sklearn.linear_model import SGDClassifier\n",
    "from sklearn.metrics import log_loss\n",
    "from sklearn.metrics import accuracy_score\n",
    "from sklearn.metrics import confusion_matrix\n",
    "from sklearn.metrics import precision_recall_fscore_support\n",
    "# for SVM\n",
    "from sklearn.svm import SVC\n",
    "from sklearn.preprocessing import StandardScaler\n",
    "from sklearn.model_selection import train_test_split, GridSearchCV\n",
    "# from common_func import plot_decision_regions\n",
    "import seaborn as sns"
   ]
  },
  {
   "cell_type": "markdown",
   "metadata": {},
   "source": [
    "データの読み込み"
   ]
  },
  {
   "cell_type": "code",
   "execution_count": 13,
   "metadata": {},
   "outputs": [],
   "source": [
    "df = pd.read_csv(\"ks-projects-201801.csv\")"
   ]
  },
  {
   "cell_type": "code",
   "execution_count": 14,
   "metadata": {},
   "outputs": [
    {
     "data": {
      "text/html": [
       "<div>\n",
       "<style scoped>\n",
       "    .dataframe tbody tr th:only-of-type {\n",
       "        vertical-align: middle;\n",
       "    }\n",
       "\n",
       "    .dataframe tbody tr th {\n",
       "        vertical-align: top;\n",
       "    }\n",
       "\n",
       "    .dataframe thead th {\n",
       "        text-align: right;\n",
       "    }\n",
       "</style>\n",
       "<table border=\"1\" class=\"dataframe\">\n",
       "  <thead>\n",
       "    <tr style=\"text-align: right;\">\n",
       "      <th></th>\n",
       "      <th>ID</th>\n",
       "      <th>name</th>\n",
       "      <th>category</th>\n",
       "      <th>main_category</th>\n",
       "      <th>currency</th>\n",
       "      <th>deadline</th>\n",
       "      <th>goal</th>\n",
       "      <th>launched</th>\n",
       "      <th>pledged</th>\n",
       "      <th>state</th>\n",
       "      <th>backers</th>\n",
       "      <th>country</th>\n",
       "      <th>usd pledged</th>\n",
       "      <th>usd_pledged_real</th>\n",
       "      <th>usd_goal_real</th>\n",
       "    </tr>\n",
       "  </thead>\n",
       "  <tbody>\n",
       "    <tr>\n",
       "      <th>0</th>\n",
       "      <td>1000002330</td>\n",
       "      <td>The Songs of Adelaide &amp; Abullah</td>\n",
       "      <td>Poetry</td>\n",
       "      <td>Publishing</td>\n",
       "      <td>GBP</td>\n",
       "      <td>2015-10-09</td>\n",
       "      <td>1000.0</td>\n",
       "      <td>2015-08-11 12:12:28</td>\n",
       "      <td>0.0</td>\n",
       "      <td>failed</td>\n",
       "      <td>0</td>\n",
       "      <td>GB</td>\n",
       "      <td>0.0</td>\n",
       "      <td>0.0</td>\n",
       "      <td>1533.95</td>\n",
       "    </tr>\n",
       "    <tr>\n",
       "      <th>1</th>\n",
       "      <td>1000003930</td>\n",
       "      <td>Greeting From Earth: ZGAC Arts Capsule For ET</td>\n",
       "      <td>Narrative Film</td>\n",
       "      <td>Film &amp; Video</td>\n",
       "      <td>USD</td>\n",
       "      <td>2017-11-01</td>\n",
       "      <td>30000.0</td>\n",
       "      <td>2017-09-02 04:43:57</td>\n",
       "      <td>2421.0</td>\n",
       "      <td>failed</td>\n",
       "      <td>15</td>\n",
       "      <td>US</td>\n",
       "      <td>100.0</td>\n",
       "      <td>2421.0</td>\n",
       "      <td>30000.00</td>\n",
       "    </tr>\n",
       "    <tr>\n",
       "      <th>2</th>\n",
       "      <td>1000004038</td>\n",
       "      <td>Where is Hank?</td>\n",
       "      <td>Narrative Film</td>\n",
       "      <td>Film &amp; Video</td>\n",
       "      <td>USD</td>\n",
       "      <td>2013-02-26</td>\n",
       "      <td>45000.0</td>\n",
       "      <td>2013-01-12 00:20:50</td>\n",
       "      <td>220.0</td>\n",
       "      <td>failed</td>\n",
       "      <td>3</td>\n",
       "      <td>US</td>\n",
       "      <td>220.0</td>\n",
       "      <td>220.0</td>\n",
       "      <td>45000.00</td>\n",
       "    </tr>\n",
       "    <tr>\n",
       "      <th>3</th>\n",
       "      <td>1000007540</td>\n",
       "      <td>ToshiCapital Rekordz Needs Help to Complete Album</td>\n",
       "      <td>Music</td>\n",
       "      <td>Music</td>\n",
       "      <td>USD</td>\n",
       "      <td>2012-04-16</td>\n",
       "      <td>5000.0</td>\n",
       "      <td>2012-03-17 03:24:11</td>\n",
       "      <td>1.0</td>\n",
       "      <td>failed</td>\n",
       "      <td>1</td>\n",
       "      <td>US</td>\n",
       "      <td>1.0</td>\n",
       "      <td>1.0</td>\n",
       "      <td>5000.00</td>\n",
       "    </tr>\n",
       "    <tr>\n",
       "      <th>4</th>\n",
       "      <td>1000011046</td>\n",
       "      <td>Community Film Project: The Art of Neighborhoo...</td>\n",
       "      <td>Film &amp; Video</td>\n",
       "      <td>Film &amp; Video</td>\n",
       "      <td>USD</td>\n",
       "      <td>2015-08-29</td>\n",
       "      <td>19500.0</td>\n",
       "      <td>2015-07-04 08:35:03</td>\n",
       "      <td>1283.0</td>\n",
       "      <td>canceled</td>\n",
       "      <td>14</td>\n",
       "      <td>US</td>\n",
       "      <td>1283.0</td>\n",
       "      <td>1283.0</td>\n",
       "      <td>19500.00</td>\n",
       "    </tr>\n",
       "  </tbody>\n",
       "</table>\n",
       "</div>"
      ],
      "text/plain": [
       "           ID                                               name  \\\n",
       "0  1000002330                    The Songs of Adelaide & Abullah   \n",
       "1  1000003930      Greeting From Earth: ZGAC Arts Capsule For ET   \n",
       "2  1000004038                                     Where is Hank?   \n",
       "3  1000007540  ToshiCapital Rekordz Needs Help to Complete Album   \n",
       "4  1000011046  Community Film Project: The Art of Neighborhoo...   \n",
       "\n",
       "         category main_category currency    deadline     goal  \\\n",
       "0          Poetry    Publishing      GBP  2015-10-09   1000.0   \n",
       "1  Narrative Film  Film & Video      USD  2017-11-01  30000.0   \n",
       "2  Narrative Film  Film & Video      USD  2013-02-26  45000.0   \n",
       "3           Music         Music      USD  2012-04-16   5000.0   \n",
       "4    Film & Video  Film & Video      USD  2015-08-29  19500.0   \n",
       "\n",
       "              launched  pledged     state  backers country  usd pledged  \\\n",
       "0  2015-08-11 12:12:28      0.0    failed        0      GB          0.0   \n",
       "1  2017-09-02 04:43:57   2421.0    failed       15      US        100.0   \n",
       "2  2013-01-12 00:20:50    220.0    failed        3      US        220.0   \n",
       "3  2012-03-17 03:24:11      1.0    failed        1      US          1.0   \n",
       "4  2015-07-04 08:35:03   1283.0  canceled       14      US       1283.0   \n",
       "\n",
       "   usd_pledged_real  usd_goal_real  \n",
       "0               0.0        1533.95  \n",
       "1            2421.0       30000.00  \n",
       "2             220.0       45000.00  \n",
       "3               1.0        5000.00  \n",
       "4            1283.0       19500.00  "
      ]
     },
     "metadata": {},
     "output_type": "display_data"
    }
   ],
   "source": [
    "display(df.head())"
   ]
  },
  {
   "cell_type": "code",
   "execution_count": 15,
   "metadata": {},
   "outputs": [
    {
     "name": "stdout",
     "output_type": "stream",
     "text": [
      "<class 'pandas.core.frame.DataFrame'>\n",
      "RangeIndex: 378661 entries, 0 to 378660\n",
      "Data columns (total 15 columns):\n",
      " #   Column            Non-Null Count   Dtype  \n",
      "---  ------            --------------   -----  \n",
      " 0   ID                378661 non-null  int64  \n",
      " 1   name              378657 non-null  object \n",
      " 2   category          378661 non-null  object \n",
      " 3   main_category     378661 non-null  object \n",
      " 4   currency          378661 non-null  object \n",
      " 5   deadline          378661 non-null  object \n",
      " 6   goal              378661 non-null  float64\n",
      " 7   launched          378661 non-null  object \n",
      " 8   pledged           378661 non-null  float64\n",
      " 9   state             378661 non-null  object \n",
      " 10  backers           378661 non-null  int64  \n",
      " 11  country           378661 non-null  object \n",
      " 12  usd pledged       374864 non-null  float64\n",
      " 13  usd_pledged_real  378661 non-null  float64\n",
      " 14  usd_goal_real     378661 non-null  float64\n",
      "dtypes: float64(5), int64(2), object(8)\n",
      "memory usage: 43.3+ MB\n"
     ]
    }
   ],
   "source": [
    "#内容確認\n",
    "df.info()"
   ]
  },
  {
   "cell_type": "markdown",
   "metadata": {},
   "source": [
    "可視化"
   ]
  },
  {
   "cell_type": "code",
   "execution_count": 16,
   "metadata": {
    "scrolled": true
   },
   "outputs": [],
   "source": [
    "#散布図行列\n",
    "# pd.plotting.scatter_matrix(ks, figsize=(10,10))\n",
    "# plt.show() #時間かかる"
   ]
  },
  {
   "cell_type": "code",
   "execution_count": 17,
   "metadata": {},
   "outputs": [
    {
     "data": {
      "text/html": [
       "<div>\n",
       "<style scoped>\n",
       "    .dataframe tbody tr th:only-of-type {\n",
       "        vertical-align: middle;\n",
       "    }\n",
       "\n",
       "    .dataframe tbody tr th {\n",
       "        vertical-align: top;\n",
       "    }\n",
       "\n",
       "    .dataframe thead th {\n",
       "        text-align: right;\n",
       "    }\n",
       "</style>\n",
       "<table border=\"1\" class=\"dataframe\">\n",
       "  <thead>\n",
       "    <tr style=\"text-align: right;\">\n",
       "      <th></th>\n",
       "      <th>ID</th>\n",
       "      <th>goal</th>\n",
       "      <th>pledged</th>\n",
       "      <th>backers</th>\n",
       "      <th>usd pledged</th>\n",
       "      <th>usd_pledged_real</th>\n",
       "      <th>usd_goal_real</th>\n",
       "    </tr>\n",
       "  </thead>\n",
       "  <tbody>\n",
       "    <tr>\n",
       "      <th>ID</th>\n",
       "      <td>1.000000</td>\n",
       "      <td>0.001679</td>\n",
       "      <td>0.000466</td>\n",
       "      <td>0.000654</td>\n",
       "      <td>-0.000633</td>\n",
       "      <td>-0.000025</td>\n",
       "      <td>0.001854</td>\n",
       "    </tr>\n",
       "    <tr>\n",
       "      <th>goal</th>\n",
       "      <td>0.001679</td>\n",
       "      <td>1.000000</td>\n",
       "      <td>0.007358</td>\n",
       "      <td>0.004012</td>\n",
       "      <td>0.005534</td>\n",
       "      <td>0.005104</td>\n",
       "      <td>0.942692</td>\n",
       "    </tr>\n",
       "    <tr>\n",
       "      <th>pledged</th>\n",
       "      <td>0.000466</td>\n",
       "      <td>0.007358</td>\n",
       "      <td>1.000000</td>\n",
       "      <td>0.717079</td>\n",
       "      <td>0.857370</td>\n",
       "      <td>0.952843</td>\n",
       "      <td>0.005024</td>\n",
       "    </tr>\n",
       "    <tr>\n",
       "      <th>backers</th>\n",
       "      <td>0.000654</td>\n",
       "      <td>0.004012</td>\n",
       "      <td>0.717079</td>\n",
       "      <td>1.000000</td>\n",
       "      <td>0.697426</td>\n",
       "      <td>0.752539</td>\n",
       "      <td>0.004517</td>\n",
       "    </tr>\n",
       "    <tr>\n",
       "      <th>usd pledged</th>\n",
       "      <td>-0.000633</td>\n",
       "      <td>0.005534</td>\n",
       "      <td>0.857370</td>\n",
       "      <td>0.697426</td>\n",
       "      <td>1.000000</td>\n",
       "      <td>0.907743</td>\n",
       "      <td>0.006172</td>\n",
       "    </tr>\n",
       "    <tr>\n",
       "      <th>usd_pledged_real</th>\n",
       "      <td>-0.000025</td>\n",
       "      <td>0.005104</td>\n",
       "      <td>0.952843</td>\n",
       "      <td>0.752539</td>\n",
       "      <td>0.907743</td>\n",
       "      <td>1.000000</td>\n",
       "      <td>0.005596</td>\n",
       "    </tr>\n",
       "    <tr>\n",
       "      <th>usd_goal_real</th>\n",
       "      <td>0.001854</td>\n",
       "      <td>0.942692</td>\n",
       "      <td>0.005024</td>\n",
       "      <td>0.004517</td>\n",
       "      <td>0.006172</td>\n",
       "      <td>0.005596</td>\n",
       "      <td>1.000000</td>\n",
       "    </tr>\n",
       "  </tbody>\n",
       "</table>\n",
       "</div>"
      ],
      "text/plain": [
       "                        ID      goal   pledged   backers  usd pledged  \\\n",
       "ID                1.000000  0.001679  0.000466  0.000654    -0.000633   \n",
       "goal              0.001679  1.000000  0.007358  0.004012     0.005534   \n",
       "pledged           0.000466  0.007358  1.000000  0.717079     0.857370   \n",
       "backers           0.000654  0.004012  0.717079  1.000000     0.697426   \n",
       "usd pledged      -0.000633  0.005534  0.857370  0.697426     1.000000   \n",
       "usd_pledged_real -0.000025  0.005104  0.952843  0.752539     0.907743   \n",
       "usd_goal_real     0.001854  0.942692  0.005024  0.004517     0.006172   \n",
       "\n",
       "                  usd_pledged_real  usd_goal_real  \n",
       "ID                       -0.000025       0.001854  \n",
       "goal                      0.005104       0.942692  \n",
       "pledged                   0.952843       0.005024  \n",
       "backers                   0.752539       0.004517  \n",
       "usd pledged               0.907743       0.006172  \n",
       "usd_pledged_real          1.000000       0.005596  \n",
       "usd_goal_real             0.005596       1.000000  "
      ]
     },
     "execution_count": 17,
     "metadata": {},
     "output_type": "execute_result"
    }
   ],
   "source": [
    "#相関係数\n",
    "df.corr()"
   ]
  },
  {
   "cell_type": "code",
   "execution_count": 18,
   "metadata": {},
   "outputs": [
    {
     "data": {
      "image/png": "[encoded data removed]",
      "text/plain": [
       "<Figure size 432x288 with 2 Axes>"
      ]
     },
     "metadata": {
      "needs_background": "light"
     },
     "output_type": "display_data"
    }
   ],
   "source": [
    "sns.heatmap(df.corr())\n",
    "plt.show()"
   ]
  },
  {
   "cell_type": "code",
   "execution_count": 19,
   "metadata": {},
   "outputs": [
    {
     "name": "stdout",
     "output_type": "stream",
     "text": [
      "count    3.786610e+05\n",
      "mean     4.545440e+04\n",
      "std      1.152950e+06\n",
      "min      1.000000e-02\n",
      "25%      2.000000e+03\n",
      "50%      5.500000e+03\n",
      "75%      1.550000e+04\n",
      "max      1.663614e+08\n",
      "Name: usd_goal_real, dtype: float64\n"
     ]
    },
    {
     "data": {
      "text/plain": [
       "<matplotlib.axes._subplots.AxesSubplot at 0x1642823f388>"
      ]
     },
     "execution_count": 19,
     "metadata": {},
     "output_type": "execute_result"
    },
    {
     "data": {
      "image/png": "[encoded data removed]",
      "text/plain": [
       "<Figure size 432x288 with 1 Axes>"
      ]
     },
     "metadata": {
      "needs_background": "light"
     },
     "output_type": "display_data"
    }
   ],
   "source": [
    "#量的変数に関しては必ずヒストグラム等で分布を確認すること\n",
    "print(df[\"usd_goal_real\"].describe())\n",
    "#ヒストグラム\n",
    "sns.distplot(df[\"usd_goal_real\"])"
   ]
  },
  {
   "cell_type": "code",
   "execution_count": 20,
   "metadata": {},
   "outputs": [
    {
     "data": {
      "text/plain": [
       "<matplotlib.axes._subplots.AxesSubplot at 0x1642823d188>"
      ]
     },
     "execution_count": 20,
     "metadata": {},
     "output_type": "execute_result"
    },
    {
     "data": {
      "image/png": "[encoded data removed]",
      "text/plain": [
       "<Figure size 432x288 with 1 Axes>"
      ]
     },
     "metadata": {
      "needs_background": "light"
     },
     "output_type": "display_data"
    }
   ],
   "source": [
    "#対数表示\n",
    "df[\"log_usd_goal_real\"]=np.log(df[\"usd_goal_real\"])\n",
    "sns.distplot(df[\"log_usd_goal_real\"])"
   ]
  },
  {
   "cell_type": "code",
   "execution_count": 21,
   "metadata": {},
   "outputs": [
    {
     "name": "stdout",
     "output_type": "stream",
     "text": [
      "47803     1.663614e+08\n",
      "196531    1.513959e+08\n",
      "367928    1.101698e+08\n",
      "222208    1.073699e+08\n",
      "226161    1.040572e+08\n",
      "Name: usd_goal_real, dtype: float64\n",
      "304489    0.01\n",
      "317771    0.01\n",
      "370401    0.15\n",
      "74446     0.49\n",
      "226171    0.50\n",
      "Name: usd_goal_real, dtype: float64\n"
     ]
    }
   ],
   "source": [
    "#min,maxを具体的に見てみる\n",
    "print(df[\"usd_goal_real\"].nlargest(5))\n",
    "print(df[\"usd_goal_real\"].nsmallest(5))"
   ]
  },
  {
   "cell_type": "markdown",
   "metadata": {},
   "source": [
    "前処理<br>\n",
    "・不要なカラム削除<br>\n",
    "・launchedからdeadlineを引いて期間を作成<br>\n",
    "・stateのsussessful,failed以外は頻度を見て少なければ除外<br>\n",
    "・カテゴリカル変数に変換<br>"
   ]
  },
  {
   "cell_type": "code",
   "execution_count": 22,
   "metadata": {
    "scrolled": true
   },
   "outputs": [
    {
     "name": "stdout",
     "output_type": "stream",
     "text": [
      "<class 'pandas.core.frame.DataFrame'>\n",
      "RangeIndex: 378661 entries, 0 to 378660\n",
      "Data columns (total 8 columns):\n",
      " #   Column             Non-Null Count   Dtype  \n",
      "---  ------             --------------   -----  \n",
      " 0   category           378661 non-null  object \n",
      " 1   main_category      378661 non-null  object \n",
      " 2   deadline           378661 non-null  object \n",
      " 3   launched           378661 non-null  object \n",
      " 4   state              378661 non-null  object \n",
      " 5   country            378661 non-null  object \n",
      " 6   usd_goal_real      378661 non-null  float64\n",
      " 7   log_usd_goal_real  378661 non-null  float64\n",
      "dtypes: float64(2), object(6)\n",
      "memory usage: 23.1+ MB\n"
     ]
    }
   ],
   "source": [
    "# 不要なカラムを削除\n",
    "# pledged, backers を削除 これらは達成後の指標のため\n",
    "# currency, goal を削除 代わりにusd_goal_realを使う\n",
    "rm_col = ['ID','name','currency','goal','backers','pledged','usd pledged','usd_pledged_real']\n",
    "df_rmcol=df.drop(rm_col, axis=1)\n",
    "\n",
    "df_rmcol.info()"
   ]
  },
  {
   "cell_type": "code",
   "execution_count": 23,
   "metadata": {},
   "outputs": [
    {
     "data": {
      "text/plain": [
       "failed        197719\n",
       "successful    133956\n",
       "canceled       38779\n",
       "undefined       3562\n",
       "live            2799\n",
       "suspended       1846\n",
       "Name: state, dtype: int64"
      ]
     },
     "execution_count": 23,
     "metadata": {},
     "output_type": "execute_result"
    }
   ],
   "source": [
    "# sateについて\n",
    "df_rmcol.state.value_counts()"
   ]
  },
  {
   "cell_type": "code",
   "execution_count": 24,
   "metadata": {},
   "outputs": [
    {
     "data": {
      "text/plain": [
       "failed        197719\n",
       "successful    133956\n",
       "Name: state, dtype: int64"
      ]
     },
     "execution_count": 24,
     "metadata": {},
     "output_type": "execute_result"
    }
   ],
   "source": [
    "#KaggleのData Explorerでも見れるが、\n",
    "#全体の12%と少々大きい気もするが、\n",
    "#母数が13万件と予測に十分そうなので除外する\n",
    "df_state = df_rmcol[ (df_rmcol['state'] == 'successful') | (df_rmcol['state'] == 'failed') ]\n",
    "df_state.state.value_counts()"
   ]
  },
  {
   "cell_type": "code",
   "execution_count": 25,
   "metadata": {},
   "outputs": [
    {
     "name": "stdout",
     "output_type": "stream",
     "text": [
      "<class 'pandas.core.frame.DataFrame'>\n",
      "Int64Index: 331675 entries, 0 to 378660\n",
      "Data columns (total 6 columns):\n",
      " #   Column             Non-Null Count   Dtype  \n",
      "---  ------             --------------   -----  \n",
      " 0   category           331675 non-null  object \n",
      " 1   main_category      331675 non-null  object \n",
      " 2   state              331675 non-null  object \n",
      " 3   country            331675 non-null  object \n",
      " 4   usd_goal_real      331675 non-null  float64\n",
      " 5   log_usd_goal_real  331675 non-null  float64\n",
      "dtypes: float64(2), object(4)\n",
      "memory usage: 17.7+ MB\n"
     ]
    }
   ],
   "source": [
    "#期間\n",
    "#日時の取り扱いが良く分からず\n",
    "\n",
    "rm_col2 = ['deadline','launched']\n",
    "df_rmcol2=df_state.drop(rm_col2, axis=1)\n",
    "df_rmcol2.info()"
   ]
  },
  {
   "cell_type": "code",
   "execution_count": 26,
   "metadata": {},
   "outputs": [
    {
     "name": "stdout",
     "output_type": "stream",
     "text": [
      "['usd_goal_real', 'log_usd_goal_real', 'category_3D Printing', 'category_Academic', 'category_Accessories', 'category_Action', 'category_Animals', 'category_Animation', 'category_Anthologies', 'category_Apparel', 'category_Apps', 'category_Architecture', 'category_Art', 'category_Art Books', 'category_Audio', 'category_Bacon', 'category_Blues', 'category_Calendars', 'category_Camera Equipment', 'category_Candles', 'category_Ceramics', \"category_Children's Books\", 'category_Childrenswear', 'category_Chiptune', 'category_Civic Design', 'category_Classical Music', 'category_Comedy', 'category_Comic Books', 'category_Comics', 'category_Community Gardens', 'category_Conceptual Art', 'category_Cookbooks', 'category_Country & Folk', 'category_Couture', 'category_Crafts', 'category_Crochet', 'category_DIY', 'category_DIY Electronics', 'category_Dance', 'category_Design', 'category_Digital Art', 'category_Documentary', 'category_Drama', 'category_Drinks', 'category_Electronic Music', 'category_Embroidery', 'category_Events', 'category_Experimental', 'category_Fabrication Tools', 'category_Faith', 'category_Family', 'category_Fantasy', \"category_Farmer's Markets\", 'category_Farms', 'category_Fashion', 'category_Festivals', 'category_Fiction', 'category_Film & Video', 'category_Fine Art', 'category_Flight', 'category_Food', 'category_Food Trucks', 'category_Footwear', 'category_Gadgets', 'category_Games', 'category_Gaming Hardware', 'category_Glass', 'category_Graphic Design', 'category_Graphic Novels', 'category_Hardware', 'category_Hip-Hop', 'category_Horror', 'category_Illustration', 'category_Immersive', 'category_Indie Rock', 'category_Installations', 'category_Interactive Design', 'category_Jazz', 'category_Jewelry', 'category_Journalism', 'category_Kids', 'category_Knitting', 'category_Latin', 'category_Letterpress', 'category_Literary Journals', 'category_Literary Spaces', 'category_Live Games', 'category_Makerspaces', 'category_Metal', 'category_Mixed Media', 'category_Mobile Games', 'category_Movie Theaters', 'category_Music', 'category_Music Videos', 'category_Musical', 'category_Narrative Film', 'category_Nature', 'category_Nonfiction', 'category_Painting', 'category_People', 'category_Performance Art', 'category_Performances', 'category_Periodicals', 'category_Pet Fashion', 'category_Photo', 'category_Photobooks', 'category_Photography', 'category_Places', 'category_Playing Cards', 'category_Plays', 'category_Poetry', 'category_Pop', 'category_Pottery', 'category_Print', 'category_Printing', 'category_Product Design', 'category_Public Art', 'category_Publishing', 'category_Punk', 'category_Puzzles', 'category_Quilts', 'category_R&B', 'category_Radio & Podcasts', 'category_Ready-to-wear', 'category_Residencies', 'category_Restaurants', 'category_Robots', 'category_Rock', 'category_Romance', 'category_Science Fiction', 'category_Sculpture', 'category_Shorts', 'category_Small Batch', 'category_Software', 'category_Sound', 'category_Space Exploration', 'category_Spaces', 'category_Stationery', 'category_Tabletop Games', 'category_Taxidermy', 'category_Technology', 'category_Television', 'category_Textiles', 'category_Theater', 'category_Thrillers', 'category_Translations', 'category_Typography', 'category_Vegan', 'category_Video', 'category_Video Art', 'category_Video Games', 'category_Wearables', 'category_Weaving', 'category_Web', 'category_Webcomics', 'category_Webseries', 'category_Woodworking', 'category_Workshops', 'category_World Music', 'category_Young Adult', 'category_Zines', 'main_category_Art', 'main_category_Comics', 'main_category_Crafts', 'main_category_Dance', 'main_category_Design', 'main_category_Fashion', 'main_category_Film & Video', 'main_category_Food', 'main_category_Games', 'main_category_Journalism', 'main_category_Music', 'main_category_Photography', 'main_category_Publishing', 'main_category_Technology', 'main_category_Theater', 'state_failed', 'state_successful', 'country_AT', 'country_AU', 'country_BE', 'country_CA', 'country_CH', 'country_DE', 'country_DK', 'country_ES', 'country_FR', 'country_GB', 'country_HK', 'country_IE', 'country_IT', 'country_JP', 'country_LU', 'country_MX', 'country_N,0\"', 'country_NL', 'country_NO', 'country_NZ', 'country_SE', 'country_SG', 'country_US']\n"
     ]
    }
   ],
   "source": [
    "#カテゴリカル変数,boolean\n",
    "\n",
    "#df_ks_data_all = pd.get_dummies(df_ks_data,  columns=dummy_items ,drop_first = True)\n",
    "dummy = ['category','main_category','state','country']\n",
    "\n",
    "df_set = pd.get_dummies(df_rmcol2, columns=dummy)\n",
    "print(df_set.columns.values.tolist())"
   ]
  },
  {
   "cell_type": "code",
   "execution_count": 27,
   "metadata": {
    "scrolled": true
   },
   "outputs": [
    {
     "data": {
      "text/plain": [
       "SGDClassifier(alpha=0.0001, average=False, class_weight=None,\n",
       "              early_stopping=False, epsilon=0.1, eta0=0.0, fit_intercept=True,\n",
       "              l1_ratio=0.15, learning_rate='optimal', loss='log',\n",
       "              max_iter=10000, n_iter_no_change=5, n_jobs=None, penalty='none',\n",
       "              power_t=0.5, random_state=1234, shuffle=True, tol=0.001,\n",
       "              validation_fraction=0.1, verbose=0, warm_start=False)"
      ]
     },
     "execution_count": 27,
     "metadata": {},
     "output_type": "execute_result"
    }
   ],
   "source": [
    "#Scikit-learnでロジスティック回帰\n",
    "df=df_set.drop('state_failed', axis=1)\n",
    "y = df['state_successful'].values\n",
    "x = df.drop('state_successful', axis=1).values\n",
    "clf = SGDClassifier(loss='log', penalty='none', max_iter=10000, fit_intercept=True, random_state=1234, tol=1e-3)\n",
    "clf.fit(x, y)"
   ]
  },
  {
   "cell_type": "code",
   "execution_count": 28,
   "metadata": {},
   "outputs": [
    {
     "name": "stdout",
     "output_type": "stream",
     "text": [
      "正答率（Accuracy） = 53.717%\n",
      "適合率（Precision） = 74.573%\n",
      "再現率（Recall） = 33.928%\n",
      "F1値（F1-score） = 46.638%\n"
     ]
    }
   ],
   "source": [
    "# ラベルを予測\n",
    "y_pred = clf.predict(x)\n",
    "\n",
    "# 正答率を計算\n",
    "accuracy =  accuracy_score(y, y_pred)\n",
    "print('正答率（Accuracy） = {:.3f}%'.format(100 * accuracy))\n",
    "\n",
    "# Precision, Recall, F1-scoreを計算\n",
    "precision, recall, f1_score, _ = precision_recall_fscore_support(y, y_pred)\n",
    "\n",
    "# Precision, Recall, F1-scoreを表示\n",
    "print('適合率（Precision） = {:.3f}%'.format(100 * precision[0]))\n",
    "print('再現率（Recall） = {:.3f}%'.format(100 * recall[0]))\n",
    "print('F1値（F1-score） = {:.3f}%'.format(100 * f1_score[0]))\n",
    "\n",
    "#正答率（Accuracy） = 53.717%\n",
    "#適合率（Precision） = 74.573%\n",
    "#再現率（Recall） = 33.928%\n",
    "#F1値（F1-score） = 46.638%"
   ]
  },
  {
   "cell_type": "code",
   "execution_count": 29,
   "metadata": {},
   "outputs": [
    {
     "name": "stdout",
     "output_type": "stream",
     "text": [
      "          予測 NoGoal  予測 Goal\n",
      "真 NoGoal      67083   130636\n",
      "真 Goal        22873   111083\n"
     ]
    }
   ],
   "source": [
    "# 予測値と正解のクロス集計（混同行列）\n",
    "conf_mat = confusion_matrix(y, y_pred)\n",
    "conf_mat = pd.DataFrame(conf_mat, \n",
    "                        index=['真 NoGoal', '真 Goal'], \n",
    "                        columns=['予測 NoGoal', '予測 Goal'])\n",
    "print(conf_mat)"
   ]
  },
  {
   "cell_type": "markdown",
   "metadata": {},
   "source": [
    "DAY1ここまで"
   ]
  },
  {
   "cell_type": "markdown",
   "metadata": {},
   "source": [
    "<br>\n",
    "<br>\n",
    "<br>"
   ]
  },
  {
   "cell_type": "markdown",
   "metadata": {},
   "source": [
    "<h1>DAY2</h1><br>\n",
    "・正規化、標準化、無相関化、白色化を取り入れる<br>\n",
    "・交差検証またはホールドアウト法を用いて、汎化性能を確認する<br>\n",
    "・過学習への対処する<br>\n",
    "・ハイパーパラメータの探索を行う<br>\n",
    "・DAY1のモデルと精度を比較する<br>"
   ]
  },
  {
   "cell_type": "code",
   "execution_count": 19,
   "metadata": {},
   "outputs": [],
   "source": [
    "# ホールドアウト法のためにデータ分割\n",
    "dftrain, dftest = train_test_split(df, test_size=0.2, random_state=0)"
   ]
  },
  {
   "cell_type": "markdown",
   "metadata": {},
   "source": [
    "後の比較のためにDAY1と同じ手順でdftrainでの結果を出しておく"
   ]
  },
  {
   "cell_type": "code",
   "execution_count": 167,
   "metadata": {},
   "outputs": [
    {
     "name": "stdout",
     "output_type": "stream",
     "text": [
      "正答率（Accuracy） = 54.778%\n",
      "適合率（Precision） = 72.897%\n",
      "再現率（Recall） = 38.346%\n",
      "F1値（F1-score） = 50.256%\n"
     ]
    }
   ],
   "source": [
    "y = dftrain['state_successful'].values\n",
    "x = dftrain.drop('state_successful', axis=1).values\n",
    "clf = SGDClassifier(loss='log', penalty='none', max_iter=10000, fit_intercept=True, random_state=1234, tol=1e-3)\n",
    "clf.fit(x, y)\n",
    "\n",
    "# ラベルを予測\n",
    "y_pred = clf.predict(x)\n",
    "\n",
    "# 正答率を計算\n",
    "accuracy =  accuracy_score(y, y_pred)\n",
    "print('正答率（Accuracy） = {:.3f}%'.format(100 * accuracy))\n",
    "\n",
    "# Precision, Recall, F1-scoreを計算\n",
    "precision, recall, f1_score, _ = precision_recall_fscore_support(y, y_pred)\n",
    "\n",
    "# Precision, Recall, F1-scoreを表示\n",
    "print('適合率（Precision） = {:.3f}%'.format(100 * precision[0]))\n",
    "print('再現率（Recall） = {:.3f}%'.format(100 * recall[0]))\n",
    "print('F1値（F1-score） = {:.3f}%'.format(100 * f1_score[0]))"
   ]
  },
  {
   "cell_type": "markdown",
   "metadata": {},
   "source": [
    "<h2>標準化、正規化を取り入れる</h2>"
   ]
  },
  {
   "cell_type": "code",
   "execution_count": 168,
   "metadata": {},
   "outputs": [],
   "source": [
    "# 標準化\n",
    "df_std = dftrain.copy()\n",
    "df_std[\"usd_goal_real\"] =  (df_std[\"usd_goal_real\"] - df_std[\"usd_goal_real\"].mean()) / df_std[\"usd_goal_real\"].std(ddof=0)"
   ]
  },
  {
   "cell_type": "markdown",
   "metadata": {},
   "source": [
    "standardscalerを使いたいがdataframeに使うには手間<br>\n",
    "sklearn_pandasが便利そうだが指定環境に無いのではベタ書きで良さそう<br>"
   ]
  },
  {
   "cell_type": "code",
   "execution_count": 169,
   "metadata": {},
   "outputs": [
    {
     "name": "stdout",
     "output_type": "stream",
     "text": [
      "正答率（Accuracy） = 66.709%\n",
      "適合率（Precision） = 69.911%\n",
      "再現率（Recall） = 77.450%\n",
      "F1値（F1-score） = 73.488%\n"
     ]
    }
   ],
   "source": [
    "# ロジスティック回帰\n",
    "y = df_std['state_successful'].values\n",
    "x = df_std.drop('state_successful', axis=1).values\n",
    "clf = SGDClassifier(loss='log', penalty='none', max_iter=10000, fit_intercept=True, random_state=1234, tol=1e-3)\n",
    "clf.fit(x, y)\n",
    "\n",
    "# ラベルを予測\n",
    "y_pred = clf.predict(x)\n",
    "\n",
    "# 正答率を計算\n",
    "accuracy =  accuracy_score(y, y_pred)\n",
    "print('正答率（Accuracy） = {:.3f}%'.format(100 * accuracy))\n",
    "\n",
    "# Precision, Recall, F1-scoreを計算\n",
    "precision, recall, f1_score, _ = precision_recall_fscore_support(y, y_pred)\n",
    "\n",
    "# Precision, Recall, F1-scoreを表示\n",
    "print('適合率（Precision） = {:.3f}%'.format(100 * precision[0]))\n",
    "print('再現率（Recall） = {:.3f}%'.format(100 * recall[0]))\n",
    "print('F1値（F1-score） = {:.3f}%'.format(100 * f1_score[0]))"
   ]
  },
  {
   "cell_type": "code",
   "execution_count": 170,
   "metadata": {},
   "outputs": [
    {
     "name": "stdout",
     "output_type": "stream",
     "text": [
      "正答率（Accuracy） = 66.778%\n",
      "適合率（Precision） = 68.894%\n",
      "再現率（Recall） = 80.645%\n",
      "F1値（F1-score） = 74.308%\n"
     ]
    }
   ],
   "source": [
    "# 正規化\n",
    "df_norm = dftrain.copy()\n",
    "df_norm[\"usd_goal_real\"] = (df_norm[\"usd_goal_real\"] - df_norm[\"usd_goal_real\"].min()) / (df_norm[\"usd_goal_real\"].max() - df_norm[\"usd_goal_real\"].min())\n",
    "\n",
    "# ロジスティック回帰\n",
    "y = df_norm['state_successful'].values\n",
    "x = df_norm.drop('state_successful', axis=1).values\n",
    "clf = SGDClassifier(loss='log', penalty='none', max_iter=10000, fit_intercept=True, random_state=1234, tol=1e-3)\n",
    "clf.fit(x, y)\n",
    "\n",
    "# ラベルを予測\n",
    "y_pred = clf.predict(x)\n",
    "\n",
    "# 正答率を計算\n",
    "accuracy =  accuracy_score(y, y_pred)\n",
    "print('正答率（Accuracy） = {:.3f}%'.format(100 * accuracy))\n",
    "\n",
    "# Precision, Recall, F1-scoreを計算\n",
    "precision, recall, f1_score, _ = precision_recall_fscore_support(y, y_pred)\n",
    "\n",
    "# Precision, Recall, F1-scoreを表示\n",
    "print('適合率（Precision） = {:.3f}%'.format(100 * precision[0]))\n",
    "print('再現率（Recall） = {:.3f}%'.format(100 * recall[0]))\n",
    "print('F1値（F1-score） = {:.3f}%'.format(100 * f1_score[0]))\n"
   ]
  },
  {
   "cell_type": "code",
   "execution_count": 171,
   "metadata": {},
   "outputs": [
    {
     "name": "stdout",
     "output_type": "stream",
     "text": [
      "正答率（Accuracy） = 66.778%\n",
      "適合率（Precision） = 68.894%\n",
      "再現率（Recall） = 80.645%\n",
      "F1値（F1-score） = 74.308%\n"
     ]
    }
   ],
   "source": [
    "# 標準化⇒正規化\n",
    "df_std_norm=df_std.copy()\n",
    "df_std_norm[\"usd_goal_real\"] = (df_std[\"usd_goal_real\"] - df_std[\"usd_goal_real\"].min()) / (df_std[\"usd_goal_real\"].max() - df_std[\"usd_goal_real\"].min())\n",
    "\n",
    "# ロジスティック回帰\n",
    "y = df_std_norm['state_successful'].values\n",
    "x = df_std_norm.drop('state_successful', axis=1).values\n",
    "clf = SGDClassifier(loss='log', penalty='none', max_iter=10000, fit_intercept=True, random_state=1234, tol=1e-3)\n",
    "clf.fit(x, y)\n",
    "\n",
    "# ラベルを予測\n",
    "y_pred = clf.predict(x)\n",
    "\n",
    "# 正答率を計算\n",
    "accuracy =  accuracy_score(y, y_pred)\n",
    "print('正答率（Accuracy） = {:.3f}%'.format(100 * accuracy))\n",
    "\n",
    "# Precision, Recall, F1-scoreを計算\n",
    "precision, recall, f1_score, _ = precision_recall_fscore_support(y, y_pred)\n",
    "\n",
    "# Precision, Recall, F1-scoreを表示\n",
    "print('適合率（Precision） = {:.3f}%'.format(100 * precision[0]))\n",
    "print('再現率（Recall） = {:.3f}%'.format(100 * recall[0]))\n",
    "print('F1値（F1-score） = {:.3f}%'.format(100 * f1_score[0]))"
   ]
  },
  {
   "cell_type": "code",
   "execution_count": 84,
   "metadata": {},
   "outputs": [
    {
     "name": "stdout",
     "output_type": "stream",
     "text": [
      "正答率（Accuracy） = 66.792%\n",
      "適合率（Precision） = 69.579%\n",
      "再現率（Recall） = 78.704%\n",
      "F1値（F1-score） = 73.861%\n"
     ]
    }
   ],
   "source": [
    "# 正規化⇒標準化\n",
    "df_norm_std=df_norm.copy()\n",
    "df_norm_std[\"usd_goal_real\"] = (df_norm[\"usd_goal_real\"] - df_norm[\"usd_goal_real\"].mean()) / df_norm[\"usd_goal_real\"].std(ddof=0)\n",
    "\n",
    "# ロジスティック回帰\n",
    "y = df_std_norm['state_successful'].values\n",
    "x = df_std_norm.drop('state_successful', axis=1).values\n",
    "clf = SGDClassifier(loss='log', penalty='none', max_iter=10000, fit_intercept=True, random_state=1234, tol=1e-3)\n",
    "clf.fit(x, y)\n",
    "\n",
    "# ラベルを予測\n",
    "y_pred = clf.predict(x)\n",
    "\n",
    "# 正答率を計算\n",
    "accuracy =  accuracy_score(y, y_pred)\n",
    "print('正答率（Accuracy） = {:.3f}%'.format(100 * accuracy))\n",
    "\n",
    "# Precision, Recall, F1-scoreを計算\n",
    "precision, recall, f1_score, _ = precision_recall_fscore_support(y, y_pred)\n",
    "\n",
    "# Precision, Recall, F1-scoreを表示\n",
    "print('適合率（Precision） = {:.3f}%'.format(100 * precision[0]))\n",
    "print('再現率（Recall） = {:.3f}%'.format(100 * recall[0]))\n",
    "print('F1値（F1-score） = {:.3f}%'.format(100 * f1_score[0]))"
   ]
  },
  {
   "cell_type": "markdown",
   "metadata": {},
   "source": [
    "DAY1の結果に比べると、標準化、正規化それぞれ良い結果になった<br>\n",
    "標準化と正規化の比較では、標準化では再現率が、正規化では適合率が良く、どちらを適用するか判断が分かれる結果となった<br>\n",
    "<br>\n",
    "標準化⇒正規化、正規化⇒標準化に差は無く、正規化のみと同じ結果となった<br>\n",
    "数学的根拠があるのかは分からない"
   ]
  },
  {
   "cell_type": "markdown",
   "metadata": {},
   "source": [
    "<h2>正則化</h2>\n",
    "<br>\n",
    "正則化項を入れて比較してみる(L1,L2,elasticnet)<br>\n",
    "<br>\n",
    "kickstarterへのBackということで、Precisionを重視し、標準化のみのデータを使う<br>"
   ]
  },
  {
   "cell_type": "markdown",
   "metadata": {},
   "source": [
    "<h3>L1(default)</h3>"
   ]
  },
  {
   "cell_type": "code",
   "execution_count": 135,
   "metadata": {},
   "outputs": [
    {
     "name": "stdout",
     "output_type": "stream",
     "text": [
      "正答率（Accuracy） = 66.621%\n",
      "適合率（Precision） = 69.664%\n",
      "再現率（Recall） = 77.887%\n",
      "F1値（F1-score） = 73.546%\n"
     ]
    }
   ],
   "source": [
    "# ロジスティック回帰\n",
    "y = df_std['state_successful'].values\n",
    "x = df_std.drop('state_successful', axis=1).values\n",
    "clf = SGDClassifier(loss='log', penalty='L1',alpha=0.0001, max_iter=10000, fit_intercept=True, random_state=1234, tol=1e-3)\n",
    "clf.fit(x, y)\n",
    "\n",
    "# ラベルを予測\n",
    "y_pred = clf.predict(x)\n",
    "\n",
    "# 正答率を計算\n",
    "accuracy =  accuracy_score(y, y_pred)\n",
    "print('正答率（Accuracy） = {:.3f}%'.format(100 * accuracy))\n",
    "\n",
    "# Precision, Recall, F1-scoreを計算\n",
    "precision, recall, f1_score, _ = precision_recall_fscore_support(y, y_pred)\n",
    "\n",
    "# Precision, Recall, F1-scoreを表示\n",
    "print('適合率（Precision） = {:.3f}%'.format(100 * precision[0]))\n",
    "print('再現率（Recall） = {:.3f}%'.format(100 * recall[0]))\n",
    "print('F1値（F1-score） = {:.3f}%'.format(100 * f1_score[0]))"
   ]
  },
  {
   "cell_type": "markdown",
   "metadata": {},
   "source": [
    "<h3>L2(default)</h3>"
   ]
  },
  {
   "cell_type": "code",
   "execution_count": 136,
   "metadata": {
    "scrolled": true
   },
   "outputs": [
    {
     "name": "stdout",
     "output_type": "stream",
     "text": [
      "正答率（Accuracy） = 66.036%\n",
      "適合率（Precision） = 66.064%\n",
      "再現率（Recall） = 88.391%\n",
      "F1値（F1-score） = 75.614%\n"
     ]
    }
   ],
   "source": [
    "# ロジスティック回帰\n",
    "y = df_std['state_successful'].values\n",
    "x = df_std.drop('state_successful', axis=1).values\n",
    "clf = SGDClassifier(loss='log', penalty='L2',alpha=0.0001, max_iter=10000, fit_intercept=True, random_state=1234, tol=1e-3)\n",
    "clf.fit(x, y)\n",
    "\n",
    "# ラベルを予測\n",
    "y_pred = clf.predict(x)\n",
    "\n",
    "# 正答率を計算\n",
    "accuracy =  accuracy_score(y, y_pred)\n",
    "print('正答率（Accuracy） = {:.3f}%'.format(100 * accuracy))\n",
    "\n",
    "# Precision, Recall, F1-scoreを計算\n",
    "precision, recall, f1_score, _ = precision_recall_fscore_support(y, y_pred)\n",
    "\n",
    "# Precision, Recall, F1-scoreを表示\n",
    "print('適合率（Precision） = {:.3f}%'.format(100 * precision[0]))\n",
    "print('再現率（Recall） = {:.3f}%'.format(100 * recall[0]))\n",
    "print('F1値（F1-score） = {:.3f}%'.format(100 * f1_score[0]))"
   ]
  },
  {
   "cell_type": "markdown",
   "metadata": {},
   "source": [
    "<h3>Elastic(default)</h3>"
   ]
  },
  {
   "cell_type": "code",
   "execution_count": 137,
   "metadata": {},
   "outputs": [
    {
     "name": "stdout",
     "output_type": "stream",
     "text": [
      "正答率（Accuracy） = 66.004%\n",
      "適合率（Precision） = 66.031%\n",
      "再現率（Recall） = 88.420%\n",
      "F1値（F1-score） = 75.603%\n"
     ]
    }
   ],
   "source": [
    "# ロジスティック回帰\n",
    "y = df_std['state_successful'].values\n",
    "x = df_std.drop('state_successful', axis=1).values\n",
    "clf = SGDClassifier(loss='log', penalty='elasticnet',alpha=0.0001, max_iter=10000, fit_intercept=True, random_state=1234, tol=1e-3)\n",
    "clf.fit(x, y)\n",
    "\n",
    "# ラベルを予測\n",
    "y_pred = clf.predict(x)\n",
    "\n",
    "# 正答率を計算\n",
    "accuracy =  accuracy_score(y, y_pred)\n",
    "print('正答率（Accuracy） = {:.3f}%'.format(100 * accuracy))\n",
    "\n",
    "# Precision, Recall, F1-scoreを計算\n",
    "precision, recall, f1_score, _ = precision_recall_fscore_support(y, y_pred)\n",
    "\n",
    "# Precision, Recall, F1-scoreを表示\n",
    "print('適合率（Precision） = {:.3f}%'.format(100 * precision[0]))\n",
    "print('再現率（Recall） = {:.3f}%'.format(100 * recall[0]))\n",
    "print('F1値（F1-score） = {:.3f}%'.format(100 * f1_score[0]))"
   ]
  },
  {
   "cell_type": "markdown",
   "metadata": {},
   "source": [
    "Precisionを重視する場合、default設定(alpha=0.0001)ではL1が良さそうではある<br>\n",
    "Gridsearchでさらに改善しないか試してみる<br>"
   ]
  },
  {
   "cell_type": "markdown",
   "metadata": {},
   "source": [
    "<h3>グリッドサーチと交差検証</h3>"
   ]
  },
  {
   "cell_type": "code",
   "execution_count": 138,
   "metadata": {},
   "outputs": [
    {
     "name": "stdout",
     "output_type": "stream",
     "text": [
      "{'alpha': 0.0001, 'penalty': 'l2'} 0.6565802383863416\n"
     ]
    }
   ],
   "source": [
    "y = df_std['state_successful'].values\n",
    "x = df_std.drop('state_successful', axis=1).values\n",
    "\n",
    "model=SGDClassifier(random_state=1234)\n",
    "parameters={'penalty':['l2', 'l1', 'elasticnet'],'alpha':[1,0.1,0.01,1e-3,1e-4,1e-5]}\n",
    "clf = GridSearchCV(model, parameters, cv=3,) # cv : cross validation数\n",
    "clf.fit(x, y)\n",
    "print(clf.best_params_, clf.best_score_)"
   ]
  },
  {
   "cell_type": "markdown",
   "metadata": {},
   "source": [
    "{'alpha': 0.0001, 'penalty': 'l2'} 0.6565802383863416<br>\n",
    "パラメータは上記となった<br>\n",
    "まずはホールドアウトで分割したトレインデータ全体で再度学習する<br>"
   ]
  },
  {
   "cell_type": "code",
   "execution_count": 142,
   "metadata": {},
   "outputs": [
    {
     "name": "stdout",
     "output_type": "stream",
     "text": [
      "正答率（Accuracy） = 60.986%\n",
      "適合率（Precision） = 63.430%\n",
      "再現率（Recall） = 81.496%\n",
      "F1値（F1-score） = 71.337%\n"
     ]
    }
   ],
   "source": [
    "# ロジスティック回帰\n",
    "y = df_train['state_successful'].values\n",
    "x = df_train.drop('state_successful', axis=1).values\n",
    "clf = SGDClassifier(loss='log', penalty='l2',alpha=0.0001, max_iter=10000, fit_intercept=True, random_state=1234, tol=1e-3)\n",
    "clf.fit(x, y)\n",
    "\n",
    "# ラベルを予測\n",
    "y_pred = clf.predict(x)\n",
    "\n",
    "# 正答率を計算\n",
    "accuracy =  accuracy_score(y, y_pred)\n",
    "print('正答率（Accuracy） = {:.3f}%'.format(100 * accuracy))\n",
    "\n",
    "# Precision, Recall, F1-scoreを計算\n",
    "precision, recall, f1_score, _ = precision_recall_fscore_support(y, y_pred)\n",
    "\n",
    "# Precision, Recall, F1-scoreを表示\n",
    "print('適合率（Precision） = {:.3f}%'.format(100 * precision[0]))\n",
    "print('再現率（Recall） = {:.3f}%'.format(100 * recall[0]))\n",
    "print('F1値（F1-score） = {:.3f}%'.format(100 * f1_score[0]))"
   ]
  },
  {
   "cell_type": "markdown",
   "metadata": {},
   "source": [
    "ホールドしたテストデータで最終確認"
   ]
  },
  {
   "cell_type": "code",
   "execution_count": 141,
   "metadata": {},
   "outputs": [
    {
     "name": "stdout",
     "output_type": "stream",
     "text": [
      "正答率（Accuracy） = 61.033%\n",
      "適合率（Precision） = 63.629%\n",
      "再現率（Recall） = 81.248%\n",
      "F1値（F1-score） = 71.367%\n"
     ]
    }
   ],
   "source": [
    "y = df_test['state_successful'].values\n",
    "x = df_test.drop('state_successful', axis=1).values\n",
    "\n",
    "# ラベルを予測\n",
    "y_pred = clf.predict(x)\n",
    "\n",
    "# 正答率を計算\n",
    "accuracy =  accuracy_score(y, y_pred)\n",
    "print('正答率（Accuracy） = {:.3f}%'.format(100 * accuracy))\n",
    "\n",
    "# Precision, Recall, F1-scoreを計算\n",
    "precision, recall, f1_score, _ = precision_recall_fscore_support(y, y_pred)\n",
    "\n",
    "# Precision, Recall, F1-scoreを表示\n",
    "print('適合率（Precision） = {:.3f}%'.format(100 * precision[0]))\n",
    "print('再現率（Recall） = {:.3f}%'.format(100 * recall[0]))\n",
    "print('F1値（F1-score） = {:.3f}%'.format(100 * f1_score[0]))"
   ]
  },
  {
   "cell_type": "markdown",
   "metadata": {},
   "source": [
    "下記DAY1の結果に比べていくらか改善した<br>\n",
    "　　　　　　　　　　　DAY1　　DAY2<br>\n",
    "正答率（Accuracy） = 54.778%　61.033%<br>\n",
    "適合率（Precision）= 72.897%　63.629%<br>\n",
    "再現率（Recall）　 = 38.346%　81.248%<br>\n",
    "F1値　（F1-score） = 50.256%　71.367%<br>\n",
    "<br>\n",
    "精度が63%では人間が感じとれる物と大差無く、参考程度にしか使えないイメージではあるが、<br>\n",
    "参考になるだけすごいのかもしれない"
   ]
  },
  {
   "cell_type": "markdown",
   "metadata": {},
   "source": [
    "<h3>SVM</h3>"
   ]
  },
  {
   "cell_type": "markdown",
   "metadata": {},
   "source": [
    "とりあえずdefaultに近い形で流してみる"
   ]
  },
  {
   "cell_type": "code",
   "execution_count": 37,
   "metadata": {},
   "outputs": [],
   "source": [
    "# データ分割\n",
    "sdf, sdftest = train_test_split(df, train_size=100, test_size=100, random_state=0)\n",
    "\n",
    "y=sdf[\"state_successful\"].values\n",
    "x=sdf.drop([\"state_successful\"],axis=1).values"
   ]
  },
  {
   "cell_type": "code",
   "execution_count": 31,
   "metadata": {},
   "outputs": [
    {
     "name": "stdout",
     "output_type": "stream",
     "text": [
      "正答率（Accuracy） = 80.000%\n",
      "適合率（Precision） = 78.261%\n",
      "再現率（Recall） = 91.525%\n",
      "F1値（F1-score） = 84.375%\n"
     ]
    }
   ],
   "source": [
    "clf = SVC(gamma=\"auto\", random_state=1234)\n",
    "clf.fit(x, y)\n",
    "\n",
    "# def C = 1.0\n",
    "# def kernel = \"rbf\"\n",
    "# {‘linear’, ‘poly’, ‘rbf’, ‘sigmoid’, ‘precomputed’}\n",
    "# def gamma = \"scale\"\n",
    "# {‘scale’, ‘auto’}\n",
    "\n",
    "y_pred = clf.predict(x)\n",
    "\n",
    "# 正答率を計算\n",
    "accuracy =  accuracy_score(y, y_pred)\n",
    "print('正答率（Accuracy） = {:.3f}%'.format(100 * accuracy))\n",
    "\n",
    "# Precision, Recall, F1-scoreを計算\n",
    "precision, recall, f1_score, _ = precision_recall_fscore_support(y, y_pred)\n",
    "\n",
    "# Precision, Recall, F1-scoreを表示\n",
    "print('適合率（Precision） = {:.3f}%'.format(100 * precision[0]))\n",
    "print('再現率（Recall） = {:.3f}%'.format(100 * recall[0]))\n",
    "print('F1値（F1-score） = {:.3f}%'.format(100 * f1_score[0]))\n"
   ]
  },
  {
   "cell_type": "markdown",
   "metadata": {},
   "source": [
    "size=1000の時<br>\n",
    "<br>\n",
    "正答率（Accuracy） = 68.818%<br>\n",
    "適合率（Precision） = 69.618%<br>\n",
    "再現率（Recall） = 87.500%<br>\n",
    "F1値（F1-score） = 77.541%<br>\n",
    "<br>\n",
    "データサイズが1,2%ならなんとか回せそう<br>\n",
    "精度も上がりそう"
   ]
  },
  {
   "cell_type": "code",
   "execution_count": 40,
   "metadata": {},
   "outputs": [
    {
     "name": "stdout",
     "output_type": "stream",
     "text": [
      "{'C': 1, 'kernel': 'linear'} 0.5303030303030303\n"
     ]
    }
   ],
   "source": [
    "parameters = {'kernel':['linear', 'rbf'], 'C':[1,2]} # ここを編集する\n",
    "model = SVC(gamma=\"auto\", random_state=1234)\n",
    "clf = GridSearchCV(model, parameters, cv=3,)\n",
    "clf.fit(x, y)\n",
    "print(clf.best_params_, clf.best_score_)"
   ]
  },
  {
   "cell_type": "markdown",
   "metadata": {},
   "source": [
    "結果<br>\n",
    "{'C': 1, 'kernel': 'linear'} 0.5603089720736779"
   ]
  },
  {
   "cell_type": "code",
   "execution_count": 41,
   "metadata": {},
   "outputs": [
    {
     "name": "stdout",
     "output_type": "stream",
     "text": [
      "正答率（Accuracy） = 43.000%\n",
      "適合率（Precision） = 47.761%\n",
      "再現率（Recall） = 59.259%\n",
      "F1値（F1-score） = 52.893%\n"
     ]
    }
   ],
   "source": [
    "y = sdftest['state_successful'].values\n",
    "x = sdftest.drop('state_successful', axis=1).values\n",
    "\n",
    "clf = SVC(kernel=\"linear\", C=1, gamma=\"auto\", random_state=1234)\n",
    "clf.fit(x, y)\n",
    "\n",
    "# ラベルを予測\n",
    "y_pred = clf.predict(x)\n",
    "\n",
    "# 正答率を計算\n",
    "accuracy =  accuracy_score(y, y_pred)\n",
    "print('正答率（Accuracy） = {:.3f}%'.format(100 * accuracy))\n",
    "\n",
    "# Precision, Recall, F1-scoreを計算\n",
    "precision, recall, f1_score, _ = precision_recall_fscore_support(y, y_pred)\n",
    "\n",
    "# Precision, Recall, F1-scoreを表示\n",
    "print('適合率（Precision） = {:.3f}%'.format(100 * precision[0]))\n",
    "print('再現率（Recall） = {:.3f}%'.format(100 * recall[0]))\n",
    "print('F1値（F1-score） = {:.3f}%'.format(100 * f1_score[0]))"
   ]
  },
  {
   "cell_type": "markdown",
   "metadata": {},
   "source": [
    "データセットのサイズが小さいと偏りが大きそうだがマシンパワーの限界<br>\n",
    "\n",
    "<pre>\n",
    "正答率（Accuracy） = 43.000%\n",
    "適合率（Precision） = 47.761%\n",
    "再現率（Recall） = 59.259%\n",
    "F1値（F1-score） = 52.893%\n",
    "</pre>"
   ]
  }
 ],
 "metadata": {
  "kernelspec": {
   "display_name": "Python 3",
   "language": "python",
   "name": "python3"
  },
  "language_info": {
   "codemirror_mode": {
    "name": "ipython",
    "version": 3
   },
   "file_extension": ".py",
   "mimetype": "text/x-python",
   "name": "python",
   "nbconvert_exporter": "python",
   "pygments_lexer": "ipython3",
   "version": "3.7.6"
  }
 },
 "nbformat": 4,
 "nbformat_minor": 4
}
